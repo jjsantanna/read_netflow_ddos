{
 "cells": [
  {
   "cell_type": "markdown",
   "metadata": {},
   "source": [
    "**Disclaimer:** in the analysed network flow, the victim IP address was anonymized (to 0.0.0.0) and it shows only the traffic going to the victim. The source IP addresses represent the actual misused machines by the attacker group."
   ]
  },
  {
   "cell_type": "markdown",
   "metadata": {},
   "source": [
    "# Libraries required"
   ]
  },
  {
   "cell_type": "code",
   "execution_count": 1,
   "metadata": {},
   "outputs": [],
   "source": [
    "import pandas as pd\n",
    "import numpy as np"
   ]
  },
  {
   "cell_type": "markdown",
   "metadata": {},
   "source": [
    "# Reading the raw data"
   ]
  },
  {
   "cell_type": "code",
   "execution_count": 2,
   "metadata": {},
   "outputs": [],
   "source": [
    "df = pd.read_csv('flows_ddos_example.zip',delim_whitespace=True, error_bad_lines=False).reset_index(drop=True)"
   ]
  },
  {
   "cell_type": "code",
   "execution_count": 3,
   "metadata": {},
   "outputs": [
    {
     "data": {
      "text/html": [
       "<div>\n",
       "<style scoped>\n",
       "    .dataframe tbody tr th:only-of-type {\n",
       "        vertical-align: middle;\n",
       "    }\n",
       "\n",
       "    .dataframe tbody tr th {\n",
       "        vertical-align: top;\n",
       "    }\n",
       "\n",
       "    .dataframe thead th {\n",
       "        text-align: right;\n",
       "    }\n",
       "</style>\n",
       "<table border=\"1\" class=\"dataframe\">\n",
       "  <thead>\n",
       "    <tr style=\"text-align: right;\">\n",
       "      <th></th>\n",
       "      <th>Date</th>\n",
       "      <th>first</th>\n",
       "      <th>seen</th>\n",
       "      <th>Duration</th>\n",
       "      <th>Proto</th>\n",
       "      <th>Src</th>\n",
       "      <th>IP</th>\n",
       "      <th>Addr:Port</th>\n",
       "      <th>Dst</th>\n",
       "      <th>IP.1</th>\n",
       "      <th>Addr:Port.1</th>\n",
       "      <th>Flags</th>\n",
       "      <th>Tos</th>\n",
       "      <th>Packets</th>\n",
       "      <th>Bytes</th>\n",
       "      <th>Flows</th>\n",
       "    </tr>\n",
       "  </thead>\n",
       "  <tbody>\n",
       "    <tr>\n",
       "      <th>0</th>\n",
       "      <td>2020-08-27</td>\n",
       "      <td>14:34:21.544</td>\n",
       "      <td>0.000</td>\n",
       "      <td>TCP</td>\n",
       "      <td>83.96.157.130:16705</td>\n",
       "      <td>-&gt;</td>\n",
       "      <td>0.0.0.0:25</td>\n",
       "      <td>....S.</td>\n",
       "      <td>0</td>\n",
       "      <td>1000</td>\n",
       "      <td>48000.0</td>\n",
       "      <td>1</td>\n",
       "      <td>NaN</td>\n",
       "      <td>NaN</td>\n",
       "      <td>NaN</td>\n",
       "      <td>NaN</td>\n",
       "    </tr>\n",
       "    <tr>\n",
       "      <th>1</th>\n",
       "      <td>2020-08-27</td>\n",
       "      <td>14:34:53.728</td>\n",
       "      <td>0.000</td>\n",
       "      <td>TCP</td>\n",
       "      <td>151.46.89.230:2249</td>\n",
       "      <td>-&gt;</td>\n",
       "      <td>0.0.0.0:443</td>\n",
       "      <td>....S.</td>\n",
       "      <td>0</td>\n",
       "      <td>1000</td>\n",
       "      <td>64000.0</td>\n",
       "      <td>1</td>\n",
       "      <td>NaN</td>\n",
       "      <td>NaN</td>\n",
       "      <td>NaN</td>\n",
       "      <td>NaN</td>\n",
       "    </tr>\n",
       "    <tr>\n",
       "      <th>2</th>\n",
       "      <td>2020-08-27</td>\n",
       "      <td>14:36:20.861</td>\n",
       "      <td>0.000</td>\n",
       "      <td>TCP</td>\n",
       "      <td>216.244.66.196:46140</td>\n",
       "      <td>-&gt;</td>\n",
       "      <td>0.0.0.0:80</td>\n",
       "      <td>.A....</td>\n",
       "      <td>0</td>\n",
       "      <td>1000</td>\n",
       "      <td>52000.0</td>\n",
       "      <td>1</td>\n",
       "      <td>NaN</td>\n",
       "      <td>NaN</td>\n",
       "      <td>NaN</td>\n",
       "      <td>NaN</td>\n",
       "    </tr>\n",
       "    <tr>\n",
       "      <th>3</th>\n",
       "      <td>2020-08-27</td>\n",
       "      <td>14:36:32.317</td>\n",
       "      <td>100.110</td>\n",
       "      <td>UDP</td>\n",
       "      <td>112.1.202.9:3702</td>\n",
       "      <td>-&gt;</td>\n",
       "      <td>0.0.0.0:6079</td>\n",
       "      <td>......</td>\n",
       "      <td>4</td>\n",
       "      <td>2000</td>\n",
       "      <td>1.6</td>\n",
       "      <td>M</td>\n",
       "      <td>1.0</td>\n",
       "      <td>NaN</td>\n",
       "      <td>NaN</td>\n",
       "      <td>NaN</td>\n",
       "    </tr>\n",
       "    <tr>\n",
       "      <th>4</th>\n",
       "      <td>2020-08-27</td>\n",
       "      <td>14:36:31.914</td>\n",
       "      <td>119.519</td>\n",
       "      <td>UDP</td>\n",
       "      <td>195.20.152.24:0</td>\n",
       "      <td>-&gt;</td>\n",
       "      <td>0.0.0.0:0</td>\n",
       "      <td>......</td>\n",
       "      <td>0</td>\n",
       "      <td>21000</td>\n",
       "      <td>20.8</td>\n",
       "      <td>M</td>\n",
       "      <td>1.0</td>\n",
       "      <td>NaN</td>\n",
       "      <td>NaN</td>\n",
       "      <td>NaN</td>\n",
       "    </tr>\n",
       "  </tbody>\n",
       "</table>\n",
       "</div>"
      ],
      "text/plain": [
       "         Date         first     seen Duration                 Proto Src  \\\n",
       "0  2020-08-27  14:34:21.544    0.000      TCP   83.96.157.130:16705  ->   \n",
       "1  2020-08-27  14:34:53.728    0.000      TCP    151.46.89.230:2249  ->   \n",
       "2  2020-08-27  14:36:20.861    0.000      TCP  216.244.66.196:46140  ->   \n",
       "3  2020-08-27  14:36:32.317  100.110      UDP      112.1.202.9:3702  ->   \n",
       "4  2020-08-27  14:36:31.914  119.519      UDP       195.20.152.24:0  ->   \n",
       "\n",
       "             IP Addr:Port  Dst   IP.1  Addr:Port.1 Flags  Tos  Packets  Bytes  \\\n",
       "0    0.0.0.0:25    ....S.    0   1000      48000.0     1  NaN      NaN    NaN   \n",
       "1   0.0.0.0:443    ....S.    0   1000      64000.0     1  NaN      NaN    NaN   \n",
       "2    0.0.0.0:80    .A....    0   1000      52000.0     1  NaN      NaN    NaN   \n",
       "3  0.0.0.0:6079    ......    4   2000          1.6     M  1.0      NaN    NaN   \n",
       "4     0.0.0.0:0    ......    0  21000         20.8     M  1.0      NaN    NaN   \n",
       "\n",
       "   Flows  \n",
       "0    NaN  \n",
       "1    NaN  \n",
       "2    NaN  \n",
       "3    NaN  \n",
       "4    NaN  "
      ]
     },
     "execution_count": 3,
     "metadata": {},
     "output_type": "execute_result"
    }
   ],
   "source": [
    "df.head()"
   ]
  },
  {
   "cell_type": "markdown",
   "metadata": {},
   "source": [
    "YES, the data is not well formatted. For this reason you need to pre-process the data! "
   ]
  },
  {
   "cell_type": "markdown",
   "metadata": {},
   "source": [
    "# Pre-processing the data"
   ]
  },
  {
   "cell_type": "code",
   "execution_count": 4,
   "metadata": {},
   "outputs": [],
   "source": [
    "df.columns=['date','time','duration','protocol','src_ip_port','>>','dst_ip_port','tcp_flags','tos','packets','bytes','flows','a','b','c','d']\n",
    "df['time'] = pd.to_datetime(df['time'], format='%H:%M:%S.%f').dt.time\n",
    "df['src_ip'] = df['src_ip_port'].apply(lambda x: str(x).split(':')[0])\n",
    "df['src_port'] = df['src_ip_port'].apply(lambda x: str(x).split(':')[1] if ':' in str(x) else 'na')\n",
    "df['dst_ip'] = df['dst_ip_port'].apply(lambda x: str(x).split(':')[0])\n",
    "df['dst_port'] = df['dst_ip_port'].apply(lambda x: str(x).split(':')[1] if ':' in str(x) else 'na')\n",
    "df['bytes'] = np.where(df['flows'].astype(str)=='M',df['bytes']*1024*1024,df['bytes'])\n",
    "df['flows'] = np.where(df['flows'].astype(str)=='M',df['a'],df['flows'])"
   ]
  },
  {
   "cell_type": "code",
   "execution_count": 5,
   "metadata": {},
   "outputs": [
    {
     "data": {
      "text/html": [
       "<div>\n",
       "<style scoped>\n",
       "    .dataframe tbody tr th:only-of-type {\n",
       "        vertical-align: middle;\n",
       "    }\n",
       "\n",
       "    .dataframe tbody tr th {\n",
       "        vertical-align: top;\n",
       "    }\n",
       "\n",
       "    .dataframe thead th {\n",
       "        text-align: right;\n",
       "    }\n",
       "</style>\n",
       "<table border=\"1\" class=\"dataframe\">\n",
       "  <thead>\n",
       "    <tr style=\"text-align: right;\">\n",
       "      <th></th>\n",
       "      <th>date</th>\n",
       "      <th>time</th>\n",
       "      <th>duration</th>\n",
       "      <th>protocol</th>\n",
       "      <th>src_ip_port</th>\n",
       "      <th>&gt;&gt;</th>\n",
       "      <th>dst_ip_port</th>\n",
       "      <th>tcp_flags</th>\n",
       "      <th>tos</th>\n",
       "      <th>packets</th>\n",
       "      <th>bytes</th>\n",
       "      <th>flows</th>\n",
       "      <th>a</th>\n",
       "      <th>b</th>\n",
       "      <th>c</th>\n",
       "      <th>d</th>\n",
       "      <th>src_ip</th>\n",
       "      <th>src_port</th>\n",
       "      <th>dst_ip</th>\n",
       "      <th>dst_port</th>\n",
       "    </tr>\n",
       "  </thead>\n",
       "  <tbody>\n",
       "    <tr>\n",
       "      <th>0</th>\n",
       "      <td>2020-08-27</td>\n",
       "      <td>14:34:21.544000</td>\n",
       "      <td>0.000</td>\n",
       "      <td>TCP</td>\n",
       "      <td>83.96.157.130:16705</td>\n",
       "      <td>-&gt;</td>\n",
       "      <td>0.0.0.0:25</td>\n",
       "      <td>....S.</td>\n",
       "      <td>0</td>\n",
       "      <td>1000</td>\n",
       "      <td>48000.0</td>\n",
       "      <td>1</td>\n",
       "      <td>NaN</td>\n",
       "      <td>NaN</td>\n",
       "      <td>NaN</td>\n",
       "      <td>NaN</td>\n",
       "      <td>83.96.157.130</td>\n",
       "      <td>16705</td>\n",
       "      <td>0.0.0.0</td>\n",
       "      <td>25</td>\n",
       "    </tr>\n",
       "    <tr>\n",
       "      <th>1</th>\n",
       "      <td>2020-08-27</td>\n",
       "      <td>14:34:53.728000</td>\n",
       "      <td>0.000</td>\n",
       "      <td>TCP</td>\n",
       "      <td>151.46.89.230:2249</td>\n",
       "      <td>-&gt;</td>\n",
       "      <td>0.0.0.0:443</td>\n",
       "      <td>....S.</td>\n",
       "      <td>0</td>\n",
       "      <td>1000</td>\n",
       "      <td>64000.0</td>\n",
       "      <td>1</td>\n",
       "      <td>NaN</td>\n",
       "      <td>NaN</td>\n",
       "      <td>NaN</td>\n",
       "      <td>NaN</td>\n",
       "      <td>151.46.89.230</td>\n",
       "      <td>2249</td>\n",
       "      <td>0.0.0.0</td>\n",
       "      <td>443</td>\n",
       "    </tr>\n",
       "    <tr>\n",
       "      <th>2</th>\n",
       "      <td>2020-08-27</td>\n",
       "      <td>14:36:20.861000</td>\n",
       "      <td>0.000</td>\n",
       "      <td>TCP</td>\n",
       "      <td>216.244.66.196:46140</td>\n",
       "      <td>-&gt;</td>\n",
       "      <td>0.0.0.0:80</td>\n",
       "      <td>.A....</td>\n",
       "      <td>0</td>\n",
       "      <td>1000</td>\n",
       "      <td>52000.0</td>\n",
       "      <td>1</td>\n",
       "      <td>NaN</td>\n",
       "      <td>NaN</td>\n",
       "      <td>NaN</td>\n",
       "      <td>NaN</td>\n",
       "      <td>216.244.66.196</td>\n",
       "      <td>46140</td>\n",
       "      <td>0.0.0.0</td>\n",
       "      <td>80</td>\n",
       "    </tr>\n",
       "    <tr>\n",
       "      <th>3</th>\n",
       "      <td>2020-08-27</td>\n",
       "      <td>14:36:32.317000</td>\n",
       "      <td>100.110</td>\n",
       "      <td>UDP</td>\n",
       "      <td>112.1.202.9:3702</td>\n",
       "      <td>-&gt;</td>\n",
       "      <td>0.0.0.0:6079</td>\n",
       "      <td>......</td>\n",
       "      <td>4</td>\n",
       "      <td>2000</td>\n",
       "      <td>1677721.6</td>\n",
       "      <td>1</td>\n",
       "      <td>1.0</td>\n",
       "      <td>NaN</td>\n",
       "      <td>NaN</td>\n",
       "      <td>NaN</td>\n",
       "      <td>112.1.202.9</td>\n",
       "      <td>3702</td>\n",
       "      <td>0.0.0.0</td>\n",
       "      <td>6079</td>\n",
       "    </tr>\n",
       "    <tr>\n",
       "      <th>4</th>\n",
       "      <td>2020-08-27</td>\n",
       "      <td>14:36:31.914000</td>\n",
       "      <td>119.519</td>\n",
       "      <td>UDP</td>\n",
       "      <td>195.20.152.24:0</td>\n",
       "      <td>-&gt;</td>\n",
       "      <td>0.0.0.0:0</td>\n",
       "      <td>......</td>\n",
       "      <td>0</td>\n",
       "      <td>21000</td>\n",
       "      <td>21810380.8</td>\n",
       "      <td>1</td>\n",
       "      <td>1.0</td>\n",
       "      <td>NaN</td>\n",
       "      <td>NaN</td>\n",
       "      <td>NaN</td>\n",
       "      <td>195.20.152.24</td>\n",
       "      <td>0</td>\n",
       "      <td>0.0.0.0</td>\n",
       "      <td>0</td>\n",
       "    </tr>\n",
       "  </tbody>\n",
       "</table>\n",
       "</div>"
      ],
      "text/plain": [
       "         date             time  duration protocol           src_ip_port  >>  \\\n",
       "0  2020-08-27  14:34:21.544000     0.000      TCP   83.96.157.130:16705  ->   \n",
       "1  2020-08-27  14:34:53.728000     0.000      TCP    151.46.89.230:2249  ->   \n",
       "2  2020-08-27  14:36:20.861000     0.000      TCP  216.244.66.196:46140  ->   \n",
       "3  2020-08-27  14:36:32.317000   100.110      UDP      112.1.202.9:3702  ->   \n",
       "4  2020-08-27  14:36:31.914000   119.519      UDP       195.20.152.24:0  ->   \n",
       "\n",
       "    dst_ip_port tcp_flags  tos  packets       bytes flows    a   b   c   d  \\\n",
       "0    0.0.0.0:25    ....S.    0     1000     48000.0     1  NaN NaN NaN NaN   \n",
       "1   0.0.0.0:443    ....S.    0     1000     64000.0     1  NaN NaN NaN NaN   \n",
       "2    0.0.0.0:80    .A....    0     1000     52000.0     1  NaN NaN NaN NaN   \n",
       "3  0.0.0.0:6079    ......    4     2000   1677721.6     1  1.0 NaN NaN NaN   \n",
       "4     0.0.0.0:0    ......    0    21000  21810380.8     1  1.0 NaN NaN NaN   \n",
       "\n",
       "           src_ip src_port   dst_ip dst_port  \n",
       "0   83.96.157.130    16705  0.0.0.0       25  \n",
       "1   151.46.89.230     2249  0.0.0.0      443  \n",
       "2  216.244.66.196    46140  0.0.0.0       80  \n",
       "3     112.1.202.9     3702  0.0.0.0     6079  \n",
       "4   195.20.152.24        0  0.0.0.0        0  "
      ]
     },
     "execution_count": 5,
     "metadata": {},
     "output_type": "execute_result"
    }
   ],
   "source": [
    "df.head()"
   ]
  },
  {
   "cell_type": "markdown",
   "metadata": {},
   "source": [
    "YES, there are some rubish columns!"
   ]
  },
  {
   "cell_type": "markdown",
   "metadata": {},
   "source": [
    "# Delete rubish columns"
   ]
  },
  {
   "cell_type": "code",
   "execution_count": 6,
   "metadata": {},
   "outputs": [],
   "source": [
    "df = df.drop(['src_ip_port','>>','dst_ip_port','a','b','c','d'], axis=1)"
   ]
  },
  {
   "cell_type": "code",
   "execution_count": 7,
   "metadata": {},
   "outputs": [
    {
     "data": {
      "text/html": [
       "<div>\n",
       "<style scoped>\n",
       "    .dataframe tbody tr th:only-of-type {\n",
       "        vertical-align: middle;\n",
       "    }\n",
       "\n",
       "    .dataframe tbody tr th {\n",
       "        vertical-align: top;\n",
       "    }\n",
       "\n",
       "    .dataframe thead th {\n",
       "        text-align: right;\n",
       "    }\n",
       "</style>\n",
       "<table border=\"1\" class=\"dataframe\">\n",
       "  <thead>\n",
       "    <tr style=\"text-align: right;\">\n",
       "      <th></th>\n",
       "      <th>date</th>\n",
       "      <th>time</th>\n",
       "      <th>duration</th>\n",
       "      <th>protocol</th>\n",
       "      <th>tcp_flags</th>\n",
       "      <th>tos</th>\n",
       "      <th>packets</th>\n",
       "      <th>bytes</th>\n",
       "      <th>flows</th>\n",
       "      <th>src_ip</th>\n",
       "      <th>src_port</th>\n",
       "      <th>dst_ip</th>\n",
       "      <th>dst_port</th>\n",
       "    </tr>\n",
       "  </thead>\n",
       "  <tbody>\n",
       "    <tr>\n",
       "      <th>0</th>\n",
       "      <td>2020-08-27</td>\n",
       "      <td>14:34:21.544000</td>\n",
       "      <td>0.000</td>\n",
       "      <td>TCP</td>\n",
       "      <td>....S.</td>\n",
       "      <td>0</td>\n",
       "      <td>1000</td>\n",
       "      <td>48000.0</td>\n",
       "      <td>1</td>\n",
       "      <td>83.96.157.130</td>\n",
       "      <td>16705</td>\n",
       "      <td>0.0.0.0</td>\n",
       "      <td>25</td>\n",
       "    </tr>\n",
       "    <tr>\n",
       "      <th>1</th>\n",
       "      <td>2020-08-27</td>\n",
       "      <td>14:34:53.728000</td>\n",
       "      <td>0.000</td>\n",
       "      <td>TCP</td>\n",
       "      <td>....S.</td>\n",
       "      <td>0</td>\n",
       "      <td>1000</td>\n",
       "      <td>64000.0</td>\n",
       "      <td>1</td>\n",
       "      <td>151.46.89.230</td>\n",
       "      <td>2249</td>\n",
       "      <td>0.0.0.0</td>\n",
       "      <td>443</td>\n",
       "    </tr>\n",
       "    <tr>\n",
       "      <th>2</th>\n",
       "      <td>2020-08-27</td>\n",
       "      <td>14:36:20.861000</td>\n",
       "      <td>0.000</td>\n",
       "      <td>TCP</td>\n",
       "      <td>.A....</td>\n",
       "      <td>0</td>\n",
       "      <td>1000</td>\n",
       "      <td>52000.0</td>\n",
       "      <td>1</td>\n",
       "      <td>216.244.66.196</td>\n",
       "      <td>46140</td>\n",
       "      <td>0.0.0.0</td>\n",
       "      <td>80</td>\n",
       "    </tr>\n",
       "    <tr>\n",
       "      <th>3</th>\n",
       "      <td>2020-08-27</td>\n",
       "      <td>14:36:32.317000</td>\n",
       "      <td>100.110</td>\n",
       "      <td>UDP</td>\n",
       "      <td>......</td>\n",
       "      <td>4</td>\n",
       "      <td>2000</td>\n",
       "      <td>1677721.6</td>\n",
       "      <td>1</td>\n",
       "      <td>112.1.202.9</td>\n",
       "      <td>3702</td>\n",
       "      <td>0.0.0.0</td>\n",
       "      <td>6079</td>\n",
       "    </tr>\n",
       "    <tr>\n",
       "      <th>4</th>\n",
       "      <td>2020-08-27</td>\n",
       "      <td>14:36:31.914000</td>\n",
       "      <td>119.519</td>\n",
       "      <td>UDP</td>\n",
       "      <td>......</td>\n",
       "      <td>0</td>\n",
       "      <td>21000</td>\n",
       "      <td>21810380.8</td>\n",
       "      <td>1</td>\n",
       "      <td>195.20.152.24</td>\n",
       "      <td>0</td>\n",
       "      <td>0.0.0.0</td>\n",
       "      <td>0</td>\n",
       "    </tr>\n",
       "  </tbody>\n",
       "</table>\n",
       "</div>"
      ],
      "text/plain": [
       "         date             time  duration protocol tcp_flags  tos  packets  \\\n",
       "0  2020-08-27  14:34:21.544000     0.000      TCP    ....S.    0     1000   \n",
       "1  2020-08-27  14:34:53.728000     0.000      TCP    ....S.    0     1000   \n",
       "2  2020-08-27  14:36:20.861000     0.000      TCP    .A....    0     1000   \n",
       "3  2020-08-27  14:36:32.317000   100.110      UDP    ......    4     2000   \n",
       "4  2020-08-27  14:36:31.914000   119.519      UDP    ......    0    21000   \n",
       "\n",
       "        bytes flows          src_ip src_port   dst_ip dst_port  \n",
       "0     48000.0     1   83.96.157.130    16705  0.0.0.0       25  \n",
       "1     64000.0     1   151.46.89.230     2249  0.0.0.0      443  \n",
       "2     52000.0     1  216.244.66.196    46140  0.0.0.0       80  \n",
       "3   1677721.6     1     112.1.202.9     3702  0.0.0.0     6079  \n",
       "4  21810380.8     1   195.20.152.24        0  0.0.0.0        0  "
      ]
     },
     "execution_count": 7,
     "metadata": {},
     "output_type": "execute_result"
    }
   ],
   "source": [
    "df.head()"
   ]
  },
  {
   "cell_type": "markdown",
   "metadata": {},
   "source": [
    "# Duration (first and last record)"
   ]
  },
  {
   "cell_type": "code",
   "execution_count": 8,
   "metadata": {},
   "outputs": [
    {
     "name": "stdout",
     "output_type": "stream",
     "text": [
      "14:34:21.544000\n",
      "14:50:51.844000\n"
     ]
    }
   ],
   "source": [
    "print(df['time'].iloc[0])\n",
    "print(df['time'].iloc[-2])"
   ]
  },
  {
   "cell_type": "markdown",
   "metadata": {},
   "source": [
    "# ===========================\n",
    "# DEFINING THE VICTIM"
   ]
  },
  {
   "cell_type": "markdown",
   "metadata": {},
   "source": [
    "based on the number of flows:"
   ]
  },
  {
   "cell_type": "code",
   "execution_count": 9,
   "metadata": {},
   "outputs": [
    {
     "data": {
      "text/plain": [
       "0.0.0.0    511977\n",
       "Name: dst_ip, dtype: int64"
      ]
     },
     "execution_count": 9,
     "metadata": {},
     "output_type": "execute_result"
    }
   ],
   "source": [
    "df['dst_ip'].value_counts()"
   ]
  },
  {
   "cell_type": "markdown",
   "metadata": {},
   "source": [
    "based on the number of bytes:"
   ]
  },
  {
   "cell_type": "code",
   "execution_count": 10,
   "metadata": {},
   "outputs": [
    {
     "data": {
      "text/plain": [
       "dst_ip\n",
       "0.0.0.0    2.497940e+12\n",
       "Name: bytes, dtype: float64"
      ]
     },
     "execution_count": 10,
     "metadata": {},
     "output_type": "execute_result"
    }
   ],
   "source": [
    "df.groupby(['dst_ip'])['bytes'].sum().sort_values(ascending=False)"
   ]
  },
  {
   "cell_type": "markdown",
   "metadata": {},
   "source": [
    "# ==========================="
   ]
  },
  {
   "cell_type": "markdown",
   "metadata": {},
   "source": [
    "# Analysing the overall stats against the victim"
   ]
  },
  {
   "cell_type": "code",
   "execution_count": 11,
   "metadata": {},
   "outputs": [],
   "source": [
    "victim = '0.0.0.0'"
   ]
  },
  {
   "cell_type": "code",
   "execution_count": 12,
   "metadata": {},
   "outputs": [],
   "source": [
    "df_victim = df[df['dst_ip']==victim]"
   ]
  },
  {
   "cell_type": "code",
   "execution_count": 13,
   "metadata": {},
   "outputs": [
    {
     "data": {
      "text/plain": [
       "UDP     424043\n",
       "TCP      60359\n",
       "GRE       5733\n",
       "ICMP      5581\n",
       "EGP       5503\n",
       "AH        5499\n",
       "PIM       5259\n",
       "Name: protocol, dtype: int64"
      ]
     },
     "execution_count": 13,
     "metadata": {},
     "output_type": "execute_result"
    }
   ],
   "source": [
    "df_victim['protocol'].value_counts()"
   ]
  },
  {
   "cell_type": "code",
   "execution_count": 14,
   "metadata": {},
   "outputs": [
    {
     "data": {
      "text/plain": [
       "0        208588\n",
       "53       140269\n",
       "3283      62042\n",
       "3702      34327\n",
       "123        6223\n",
       "          ...  \n",
       "54198         1\n",
       "50626         1\n",
       "18183         1\n",
       "59899         1\n",
       "54395         1\n",
       "Name: src_port, Length: 39468, dtype: int64"
      ]
     },
     "execution_count": 14,
     "metadata": {},
     "output_type": "execute_result"
    }
   ],
   "source": [
    "df_victim['src_port'].value_counts()"
   ]
  },
  {
   "cell_type": "code",
   "execution_count": 15,
   "metadata": {},
   "outputs": [
    {
     "data": {
      "text/plain": [
       "80       215302\n",
       "0        203006\n",
       "2079       8883\n",
       "40678      8834\n",
       "46961      8743\n",
       "          ...  \n",
       "47            1\n",
       "5.1           1\n",
       "317           1\n",
       "480           1\n",
       "432           1\n",
       "Name: dst_port, Length: 71, dtype: int64"
      ]
     },
     "execution_count": 15,
     "metadata": {},
     "output_type": "execute_result"
    }
   ],
   "source": [
    "df_victim['dst_port'].value_counts()"
   ]
  },
  {
   "cell_type": "markdown",
   "metadata": {},
   "source": [
    "# ==========================="
   ]
  },
  {
   "cell_type": "markdown",
   "metadata": {},
   "source": [
    "# VECTOR 1: source port 0 (and destination port 0)"
   ]
  },
  {
   "cell_type": "code",
   "execution_count": 16,
   "metadata": {},
   "outputs": [],
   "source": [
    "df_vector1 = df_victim[df_victim['src_port']=='0']"
   ]
  },
  {
   "cell_type": "code",
   "execution_count": 17,
   "metadata": {},
   "outputs": [
    {
     "data": {
      "text/plain": [
       "0       203006\n",
       "3.3       4792\n",
       "11.0       334\n",
       "3.1        314\n",
       "3.0         85\n",
       "3.13        35\n",
       "3.2         17\n",
       "3.10         3\n",
       "80           1\n",
       "5.1          1\n",
       "Name: dst_port, dtype: int64"
      ]
     },
     "execution_count": 17,
     "metadata": {},
     "output_type": "execute_result"
    }
   ],
   "source": [
    "df_vector1['dst_port'].value_counts()"
   ]
  },
  {
   "cell_type": "code",
   "execution_count": 18,
   "metadata": {},
   "outputs": [],
   "source": [
    "df_vector1 = df_vector1[df_vector1['dst_port']=='0']"
   ]
  },
  {
   "cell_type": "code",
   "execution_count": 19,
   "metadata": {},
   "outputs": [
    {
     "data": {
      "text/html": [
       "<div>\n",
       "<style scoped>\n",
       "    .dataframe tbody tr th:only-of-type {\n",
       "        vertical-align: middle;\n",
       "    }\n",
       "\n",
       "    .dataframe tbody tr th {\n",
       "        vertical-align: top;\n",
       "    }\n",
       "\n",
       "    .dataframe thead th {\n",
       "        text-align: right;\n",
       "    }\n",
       "</style>\n",
       "<table border=\"1\" class=\"dataframe\">\n",
       "  <thead>\n",
       "    <tr style=\"text-align: right;\">\n",
       "      <th></th>\n",
       "      <th>packets</th>\n",
       "      <th>bytes</th>\n",
       "    </tr>\n",
       "    <tr>\n",
       "      <th>src_ip</th>\n",
       "      <th></th>\n",
       "      <th></th>\n",
       "    </tr>\n",
       "  </thead>\n",
       "  <tbody>\n",
       "    <tr>\n",
       "      <th>115.78.11.156</th>\n",
       "      <td>1123000</td>\n",
       "      <td>625370726.4</td>\n",
       "    </tr>\n",
       "    <tr>\n",
       "      <th>193.218.137.36</th>\n",
       "      <td>498000</td>\n",
       "      <td>545049804.8</td>\n",
       "    </tr>\n",
       "    <tr>\n",
       "      <th>14.241.247.251</th>\n",
       "      <td>873000</td>\n",
       "      <td>477311795.2</td>\n",
       "    </tr>\n",
       "    <tr>\n",
       "      <th>171.246.67.36</th>\n",
       "      <td>561000</td>\n",
       "      <td>476472934.4</td>\n",
       "    </tr>\n",
       "    <tr>\n",
       "      <th>113.170.216.69</th>\n",
       "      <td>589000</td>\n",
       "      <td>471754342.4</td>\n",
       "    </tr>\n",
       "    <tr>\n",
       "      <th>...</th>\n",
       "      <td>...</td>\n",
       "      <td>...</td>\n",
       "    </tr>\n",
       "    <tr>\n",
       "      <th>199.219.158.167</th>\n",
       "      <td>1000</td>\n",
       "      <td>40000.0</td>\n",
       "    </tr>\n",
       "    <tr>\n",
       "      <th>67.64.38.232</th>\n",
       "      <td>1000</td>\n",
       "      <td>40000.0</td>\n",
       "    </tr>\n",
       "    <tr>\n",
       "      <th>199.242.145.241</th>\n",
       "      <td>1000</td>\n",
       "      <td>40000.0</td>\n",
       "    </tr>\n",
       "    <tr>\n",
       "      <th>56.99.144.142</th>\n",
       "      <td>1000</td>\n",
       "      <td>40000.0</td>\n",
       "    </tr>\n",
       "    <tr>\n",
       "      <th>143.92.144.22</th>\n",
       "      <td>1000</td>\n",
       "      <td>40000.0</td>\n",
       "    </tr>\n",
       "  </tbody>\n",
       "</table>\n",
       "<p>72984 rows × 2 columns</p>\n",
       "</div>"
      ],
      "text/plain": [
       "                 packets        bytes\n",
       "src_ip                               \n",
       "115.78.11.156    1123000  625370726.4\n",
       "193.218.137.36    498000  545049804.8\n",
       "14.241.247.251    873000  477311795.2\n",
       "171.246.67.36     561000  476472934.4\n",
       "113.170.216.69    589000  471754342.4\n",
       "...                  ...          ...\n",
       "199.219.158.167     1000      40000.0\n",
       "67.64.38.232        1000      40000.0\n",
       "199.242.145.241     1000      40000.0\n",
       "56.99.144.142       1000      40000.0\n",
       "143.92.144.22       1000      40000.0\n",
       "\n",
       "[72984 rows x 2 columns]"
      ]
     },
     "execution_count": 19,
     "metadata": {},
     "output_type": "execute_result"
    }
   ],
   "source": [
    "df_vector1.groupby(['src_ip']).agg({'packets':'sum', 'bytes':'sum'}).sort_values(by='bytes', ascending = False)"
   ]
  },
  {
   "cell_type": "markdown",
   "metadata": {},
   "source": [
    "# ===========================\n",
    "# REMAINING\n",
    "Now we must remove the previous attack vector found and keep analysing the data to find other attack vectors!"
   ]
  },
  {
   "cell_type": "code",
   "execution_count": 20,
   "metadata": {},
   "outputs": [
    {
     "name": "stdout",
     "output_type": "stream",
     "text": [
      "Source port frequency of flows:\n"
     ]
    },
    {
     "data": {
      "text/plain": [
       "53       140269\n",
       "3283      62042\n",
       "3702      34327\n",
       "123        6223\n",
       "40256        21\n",
       "          ...  \n",
       "16278         1\n",
       "32276         1\n",
       "51011         1\n",
       "42910         1\n",
       "31684         1\n",
       "Name: src_port, Length: 39467, dtype: int64"
      ]
     },
     "metadata": {},
     "output_type": "display_data"
    },
    {
     "name": "stdout",
     "output_type": "stream",
     "text": [
      "\n",
      "Destination port frequency of flows:\n"
     ]
    },
    {
     "data": {
      "text/plain": [
       "80       215301\n",
       "2079       8883\n",
       "40678      8834\n",
       "46961      8743\n",
       "27141      8716\n",
       "          ...  \n",
       "8             2\n",
       "480           1\n",
       "432           1\n",
       "47            1\n",
       "317           1\n",
       "Name: dst_port, Length: 62, dtype: int64"
      ]
     },
     "metadata": {},
     "output_type": "display_data"
    }
   ],
   "source": [
    "df_remaining = df_victim[(df_victim['src_port']!='0') & (df_victim['dst_port']!='0')]\n",
    "print(\"Source port frequency of flows:\")\n",
    "display (df_remaining['src_port'].value_counts())\n",
    "print()\n",
    "print(\"Destination port frequency of flows:\")\n",
    "display (df_remaining['dst_port'].value_counts())"
   ]
  },
  {
   "cell_type": "markdown",
   "metadata": {},
   "source": [
    "# Vector 2: src port 53 ( and dst port 80)"
   ]
  },
  {
   "cell_type": "code",
   "execution_count": 21,
   "metadata": {},
   "outputs": [],
   "source": [
    "df_vector2 = df_remaining[df_remaining['src_port']=='53']"
   ]
  },
  {
   "cell_type": "code",
   "execution_count": 22,
   "metadata": {},
   "outputs": [
    {
     "data": {
      "text/plain": [
       "80     140159\n",
       "7           7\n",
       "268         6\n",
       "44          5\n",
       "405         4\n",
       "245         4\n",
       "410         4\n",
       "299         4\n",
       "267         4\n",
       "417         4\n",
       "269         4\n",
       "10          4\n",
       "265         4\n",
       "406         4\n",
       "503         4\n",
       "298         3\n",
       "411         3\n",
       "266         3\n",
       "318         3\n",
       "259         3\n",
       "408         3\n",
       "9           3\n",
       "264         3\n",
       "409         3\n",
       "416         3\n",
       "261         3\n",
       "293         2\n",
       "407         2\n",
       "8           2\n",
       "418         2\n",
       "300         2\n",
       "297         2\n",
       "480         1\n",
       "317         1\n",
       "47          1\n",
       "Name: dst_port, dtype: int64"
      ]
     },
     "execution_count": 22,
     "metadata": {},
     "output_type": "execute_result"
    }
   ],
   "source": [
    "df_vector2['dst_port'].value_counts()"
   ]
  },
  {
   "cell_type": "code",
   "execution_count": 23,
   "metadata": {},
   "outputs": [],
   "source": [
    "df_vector2 = df_remaining[(df_remaining['src_port']=='53') &(df_remaining['dst_port']=='80')]"
   ]
  },
  {
   "cell_type": "code",
   "execution_count": 24,
   "metadata": {},
   "outputs": [
    {
     "data": {
      "text/html": [
       "<div>\n",
       "<style scoped>\n",
       "    .dataframe tbody tr th:only-of-type {\n",
       "        vertical-align: middle;\n",
       "    }\n",
       "\n",
       "    .dataframe tbody tr th {\n",
       "        vertical-align: top;\n",
       "    }\n",
       "\n",
       "    .dataframe thead th {\n",
       "        text-align: right;\n",
       "    }\n",
       "</style>\n",
       "<table border=\"1\" class=\"dataframe\">\n",
       "  <thead>\n",
       "    <tr style=\"text-align: right;\">\n",
       "      <th></th>\n",
       "      <th>packets</th>\n",
       "      <th>bytes</th>\n",
       "    </tr>\n",
       "    <tr>\n",
       "      <th>src_ip</th>\n",
       "      <th></th>\n",
       "      <th></th>\n",
       "    </tr>\n",
       "  </thead>\n",
       "  <tbody>\n",
       "    <tr>\n",
       "      <th>200.4.197.74</th>\n",
       "      <td>59000</td>\n",
       "      <td>92798976.0</td>\n",
       "    </tr>\n",
       "    <tr>\n",
       "      <th>160.238.209.33</th>\n",
       "      <td>58000</td>\n",
       "      <td>91226112.0</td>\n",
       "    </tr>\n",
       "    <tr>\n",
       "      <th>79.106.161.34</th>\n",
       "      <td>58000</td>\n",
       "      <td>91226112.0</td>\n",
       "    </tr>\n",
       "    <tr>\n",
       "      <th>64.191.106.114</th>\n",
       "      <td>57000</td>\n",
       "      <td>89653248.0</td>\n",
       "    </tr>\n",
       "    <tr>\n",
       "      <th>187.9.78.166</th>\n",
       "      <td>57000</td>\n",
       "      <td>89653248.0</td>\n",
       "    </tr>\n",
       "    <tr>\n",
       "      <th>...</th>\n",
       "      <td>...</td>\n",
       "      <td>...</td>\n",
       "    </tr>\n",
       "    <tr>\n",
       "      <th>181.39.46.125</th>\n",
       "      <td>1000</td>\n",
       "      <td>48000.0</td>\n",
       "    </tr>\n",
       "    <tr>\n",
       "      <th>185.233.13.243</th>\n",
       "      <td>1000</td>\n",
       "      <td>48000.0</td>\n",
       "    </tr>\n",
       "    <tr>\n",
       "      <th>165.165.75.57</th>\n",
       "      <td>1000</td>\n",
       "      <td>40000.0</td>\n",
       "    </tr>\n",
       "    <tr>\n",
       "      <th>45.230.84.13</th>\n",
       "      <td>1000</td>\n",
       "      <td>40000.0</td>\n",
       "    </tr>\n",
       "    <tr>\n",
       "      <th>146.31.136.179</th>\n",
       "      <td>1000</td>\n",
       "      <td>40000.0</td>\n",
       "    </tr>\n",
       "  </tbody>\n",
       "</table>\n",
       "<p>54215 rows × 2 columns</p>\n",
       "</div>"
      ],
      "text/plain": [
       "                packets       bytes\n",
       "src_ip                             \n",
       "200.4.197.74      59000  92798976.0\n",
       "160.238.209.33    58000  91226112.0\n",
       "79.106.161.34     58000  91226112.0\n",
       "64.191.106.114    57000  89653248.0\n",
       "187.9.78.166      57000  89653248.0\n",
       "...                 ...         ...\n",
       "181.39.46.125      1000     48000.0\n",
       "185.233.13.243     1000     48000.0\n",
       "165.165.75.57      1000     40000.0\n",
       "45.230.84.13       1000     40000.0\n",
       "146.31.136.179     1000     40000.0\n",
       "\n",
       "[54215 rows x 2 columns]"
      ]
     },
     "execution_count": 24,
     "metadata": {},
     "output_type": "execute_result"
    }
   ],
   "source": [
    "df_vector2.groupby(['src_ip']).agg({'packets':'sum', 'bytes':'sum'}).sort_values(by='bytes', ascending = False)"
   ]
  },
  {
   "cell_type": "markdown",
   "metadata": {},
   "source": [
    "## Intersection Vector 1 and Vector 2"
   ]
  },
  {
   "cell_type": "code",
   "execution_count": 25,
   "metadata": {},
   "outputs": [
    {
     "name": "stdout",
     "output_type": "stream",
     "text": [
      "unique ips in vector 1 (src_port 0 to dst_port 0): 72984\n",
      "unique ips in vector 2 (src_port 53 to dst_port 80): 54215\n",
      "unique ips in the intersection of IPs in vector 1 and vector2 44607\n"
     ]
    }
   ],
   "source": [
    "ips_vector1 = df_vector1['src_ip'].unique()\n",
    "ips_vector2 = df_vector2['src_ip'].unique()\n",
    "print('unique ips in vector 1 (src_port 0 to dst_port 0):',len(ips_vector1))\n",
    "print('unique ips in vector 2 (src_port 53 to dst_port 80):',len(ips_vector2))\n",
    "print('unique ips in the intersection of IPs in vector 1 and vector2',len(list(set(ips_vector1) & set(ips_vector2))))"
   ]
  },
  {
   "cell_type": "markdown",
   "metadata": {},
   "source": [
    "# ===========================\n",
    "# REMAINING\n",
    "Now we must remove the previous attack vector found and keep analysing the data to find other attack vectors!"
   ]
  },
  {
   "cell_type": "code",
   "execution_count": 26,
   "metadata": {},
   "outputs": [
    {
     "name": "stdout",
     "output_type": "stream",
     "text": [
      "Source port frequency of flows:\n"
     ]
    },
    {
     "name": "stderr",
     "output_type": "stream",
     "text": [
      "<ipython-input-26-f863747a9a82>:1: UserWarning: Boolean Series key will be reindexed to match DataFrame index.\n",
      "  df_remaining = df_remaining[(df_remaining['src_port']!='53') & (df_victim['dst_port']!='80')]\n"
     ]
    },
    {
     "data": {
      "text/plain": [
       "3283     62042\n",
       "3702     19637\n",
       "123       6222\n",
       "40256       20\n",
       "11376       14\n",
       "50131       13\n",
       "11931        4\n",
       "16948        4\n",
       "1185         4\n",
       "4702         4\n",
       "443          2\n",
       "3329         1\n",
       "19291        1\n",
       "45100        1\n",
       "49984        1\n",
       "39032        1\n",
       "16705        1\n",
       "53226        1\n",
       "37172        1\n",
       "20276        1\n",
       "2249         1\n",
       "48760        1\n",
       "38664        1\n",
       "Name: src_port, dtype: int64"
      ]
     },
     "metadata": {},
     "output_type": "display_data"
    },
    {
     "name": "stdout",
     "output_type": "stream",
     "text": [
      "\n",
      "Destination port frequency of flows:\n"
     ]
    },
    {
     "data": {
      "text/plain": [
       "2079     8883\n",
       "40678    8834\n",
       "46961    8743\n",
       "27141    8716\n",
       "6079     6844\n",
       "11219    6417\n",
       "1649     6379\n",
       "13309    3415\n",
       "19131    3056\n",
       "46191    2900\n",
       "50368    2422\n",
       "46062    2371\n",
       "17058    2320\n",
       "52914    2106\n",
       "7024     2102\n",
       "12098    2059\n",
       "51396    2057\n",
       "63404    1907\n",
       "31077    1679\n",
       "33150    1677\n",
       "45959    1656\n",
       "22475    1417\n",
       "44          5\n",
       "443         4\n",
       "431         3\n",
       "25          3\n",
       "430         2\n",
       "432         1\n",
       "Name: dst_port, dtype: int64"
      ]
     },
     "metadata": {},
     "output_type": "display_data"
    }
   ],
   "source": [
    "df_remaining = df_remaining[(df_remaining['src_port']!='53') & (df_victim['dst_port']!='80')]\n",
    "print(\"Source port frequency of flows:\")\n",
    "display (df_remaining['src_port'].value_counts())\n",
    "print()\n",
    "print(\"Destination port frequency of flows:\")\n",
    "display (df_remaining['dst_port'].value_counts())"
   ]
  },
  {
   "cell_type": "markdown",
   "metadata": {},
   "source": [
    "# ==========================="
   ]
  },
  {
   "cell_type": "markdown",
   "metadata": {},
   "source": [
    "# Vector 3: source port 3283 (to \"MANY\")\n",
    "https://www.netscout.com/blog/asert/call-arms-apple-remote-management-service-udp"
   ]
  },
  {
   "cell_type": "code",
   "execution_count": 27,
   "metadata": {},
   "outputs": [],
   "source": [
    "df_vector3 = df_remaining[df_remaining['src_port']=='3283']"
   ]
  },
  {
   "cell_type": "code",
   "execution_count": 28,
   "metadata": {},
   "outputs": [
    {
     "data": {
      "text/plain": [
       "2079     8874\n",
       "40678    8829\n",
       "46961    8733\n",
       "27141    8708\n",
       "13309    3414\n",
       "19131    3053\n",
       "46191    2896\n",
       "50368    2421\n",
       "46062    2370\n",
       "17058    2316\n",
       "7024     2100\n",
       "63404    1905\n",
       "31077    1677\n",
       "33150    1676\n",
       "45959    1655\n",
       "22475    1415\n",
       "Name: dst_port, dtype: int64"
      ]
     },
     "execution_count": 28,
     "metadata": {},
     "output_type": "execute_result"
    }
   ],
   "source": [
    "df_vector3['dst_port'].value_counts()"
   ]
  },
  {
   "cell_type": "code",
   "execution_count": 29,
   "metadata": {},
   "outputs": [
    {
     "data": {
      "text/html": [
       "<div>\n",
       "<style scoped>\n",
       "    .dataframe tbody tr th:only-of-type {\n",
       "        vertical-align: middle;\n",
       "    }\n",
       "\n",
       "    .dataframe tbody tr th {\n",
       "        vertical-align: top;\n",
       "    }\n",
       "\n",
       "    .dataframe thead th {\n",
       "        text-align: right;\n",
       "    }\n",
       "</style>\n",
       "<table border=\"1\" class=\"dataframe\">\n",
       "  <thead>\n",
       "    <tr style=\"text-align: right;\">\n",
       "      <th></th>\n",
       "      <th>packets</th>\n",
       "      <th>bytes</th>\n",
       "    </tr>\n",
       "    <tr>\n",
       "      <th>src_ip</th>\n",
       "      <th></th>\n",
       "      <th></th>\n",
       "    </tr>\n",
       "  </thead>\n",
       "  <tbody>\n",
       "    <tr>\n",
       "      <th>90.85.218.23</th>\n",
       "      <td>59000</td>\n",
       "      <td>63753420.8</td>\n",
       "    </tr>\n",
       "    <tr>\n",
       "      <th>141.219.152.93</th>\n",
       "      <td>58000</td>\n",
       "      <td>62809702.4</td>\n",
       "    </tr>\n",
       "    <tr>\n",
       "      <th>90.77.181.103</th>\n",
       "      <td>58000</td>\n",
       "      <td>62809702.4</td>\n",
       "    </tr>\n",
       "    <tr>\n",
       "      <th>185.209.212.59</th>\n",
       "      <td>57000</td>\n",
       "      <td>61656268.8</td>\n",
       "    </tr>\n",
       "    <tr>\n",
       "      <th>173.164.149.1</th>\n",
       "      <td>56000</td>\n",
       "      <td>60712550.4</td>\n",
       "    </tr>\n",
       "    <tr>\n",
       "      <th>...</th>\n",
       "      <td>...</td>\n",
       "      <td>...</td>\n",
       "    </tr>\n",
       "    <tr>\n",
       "      <th>208.87.18.25</th>\n",
       "      <td>1000</td>\n",
       "      <td>390000.0</td>\n",
       "    </tr>\n",
       "    <tr>\n",
       "      <th>128.223.127.193</th>\n",
       "      <td>1000</td>\n",
       "      <td>390000.0</td>\n",
       "    </tr>\n",
       "    <tr>\n",
       "      <th>128.255.218.158</th>\n",
       "      <td>1000</td>\n",
       "      <td>390000.0</td>\n",
       "    </tr>\n",
       "    <tr>\n",
       "      <th>79.11.165.179</th>\n",
       "      <td>1000</td>\n",
       "      <td>390000.0</td>\n",
       "    </tr>\n",
       "    <tr>\n",
       "      <th>197.245.163.202</th>\n",
       "      <td>1000</td>\n",
       "      <td>388000.0</td>\n",
       "    </tr>\n",
       "  </tbody>\n",
       "</table>\n",
       "<p>7631 rows × 2 columns</p>\n",
       "</div>"
      ],
      "text/plain": [
       "                 packets       bytes\n",
       "src_ip                              \n",
       "90.85.218.23       59000  63753420.8\n",
       "141.219.152.93     58000  62809702.4\n",
       "90.77.181.103      58000  62809702.4\n",
       "185.209.212.59     57000  61656268.8\n",
       "173.164.149.1      56000  60712550.4\n",
       "...                  ...         ...\n",
       "208.87.18.25        1000    390000.0\n",
       "128.223.127.193     1000    390000.0\n",
       "128.255.218.158     1000    390000.0\n",
       "79.11.165.179       1000    390000.0\n",
       "197.245.163.202     1000    388000.0\n",
       "\n",
       "[7631 rows x 2 columns]"
      ]
     },
     "execution_count": 29,
     "metadata": {},
     "output_type": "execute_result"
    }
   ],
   "source": [
    "df_vector3.groupby(['src_ip']).agg({'packets':'sum', 'bytes':'sum'}).sort_values(by='bytes', ascending = False)"
   ]
  },
  {
   "cell_type": "code",
   "execution_count": 30,
   "metadata": {},
   "outputs": [
    {
     "name": "stdout",
     "output_type": "stream",
     "text": [
      "unique ips in vector 1 (src_port 0 to dst_port 0): 72984\n",
      "unique ips in vector 2 (src_port 53 to dst_port 80): 54215\n",
      "unique ips in vector 2 (src_port 3283 to dst_port ANY): 7631\n",
      "unique ips in the intersection of IPs in vector 1 and vector2 44607\n",
      "unique ips in the intersection of IPs in vector 1 and vector3 1\n",
      "unique ips in the intersection of IPs in vector 2 and vector3 3\n"
     ]
    }
   ],
   "source": [
    "# ips_vector1 = df_vector1['src_ip'].unique()\n",
    "# ips_vector2 = df_vector2['src_ip'].unique()\n",
    "ips_vector3 = df_vector3['src_ip'].unique()\n",
    "print('unique ips in vector 1 (src_port 0 to dst_port 0):',len(ips_vector1))\n",
    "print('unique ips in vector 2 (src_port 53 to dst_port 80):',len(ips_vector2))\n",
    "print('unique ips in vector 2 (src_port 3283 to dst_port ANY):',len(ips_vector3))\n",
    "print('unique ips in the intersection of IPs in vector 1 and vector2',len(list(set(ips_vector1) & set(ips_vector2))))\n",
    "print('unique ips in the intersection of IPs in vector 1 and vector3',len(list(set(ips_vector1) & set(ips_vector3))))\n",
    "print('unique ips in the intersection of IPs in vector 2 and vector3',len(list(set(ips_vector2) & set(ips_vector3))))"
   ]
  },
  {
   "cell_type": "markdown",
   "metadata": {},
   "source": [
    "# ===========================\n",
    "# REMAINING\n",
    "Now we must remove the previous attack vector found and keep analysing the data to find other attack vectors!"
   ]
  },
  {
   "cell_type": "code",
   "execution_count": 31,
   "metadata": {},
   "outputs": [
    {
     "name": "stdout",
     "output_type": "stream",
     "text": [
      "Source port frequency of flows:\n"
     ]
    },
    {
     "data": {
      "text/plain": [
       "3702     19637\n",
       "123       6222\n",
       "40256       20\n",
       "11376       14\n",
       "50131       13\n",
       "16948        4\n",
       "1185         4\n",
       "11931        4\n",
       "4702         4\n",
       "443          2\n",
       "19291        1\n",
       "38664        1\n",
       "37172        1\n",
       "45100        1\n",
       "2249         1\n",
       "3329         1\n",
       "48760        1\n",
       "39032        1\n",
       "16705        1\n",
       "20276        1\n",
       "49984        1\n",
       "53226        1\n",
       "Name: src_port, dtype: int64"
      ]
     },
     "metadata": {},
     "output_type": "display_data"
    },
    {
     "name": "stdout",
     "output_type": "stream",
     "text": [
      "\n",
      "Destination port frequency of flows:\n"
     ]
    },
    {
     "data": {
      "text/plain": [
       "6079     6844\n",
       "11219    6417\n",
       "1649     6379\n",
       "52914    2106\n",
       "12098    2059\n",
       "51396    2057\n",
       "46961      10\n",
       "2079        9\n",
       "27141       8\n",
       "44          5\n",
       "40678       5\n",
       "17058       4\n",
       "46191       4\n",
       "443         4\n",
       "25          3\n",
       "431         3\n",
       "19131       3\n",
       "22475       2\n",
       "31077       2\n",
       "63404       2\n",
       "430         2\n",
       "7024        2\n",
       "432         1\n",
       "46062       1\n",
       "13309       1\n",
       "45959       1\n",
       "50368       1\n",
       "33150       1\n",
       "Name: dst_port, dtype: int64"
      ]
     },
     "metadata": {},
     "output_type": "display_data"
    }
   ],
   "source": [
    "df_remaining = df_remaining[(df_remaining['src_port']!='3283')]\n",
    "print(\"Source port frequency of flows:\")\n",
    "display (df_remaining['src_port'].value_counts())\n",
    "print()\n",
    "print(\"Destination port frequency of flows:\")\n",
    "display (df_remaining['dst_port'].value_counts())"
   ]
  },
  {
   "cell_type": "markdown",
   "metadata": {},
   "source": [
    "# ==========================="
   ]
  },
  {
   "cell_type": "markdown",
   "metadata": {},
   "source": [
    "# Vector 4: src_port 3702 (and dst_ports 6079, 11219, and 1649)\n",
    "https://blogs.akamai.com/sitr/2019/09/new-ddos-vector-observed-in-the-wild-wsd-attacks-hitting-35gbps.html"
   ]
  },
  {
   "cell_type": "code",
   "execution_count": 32,
   "metadata": {},
   "outputs": [],
   "source": [
    "df_vector4 = df_remaining[df_remaining['src_port']=='3702']"
   ]
  },
  {
   "cell_type": "code",
   "execution_count": 33,
   "metadata": {},
   "outputs": [
    {
     "data": {
      "text/plain": [
       "6079     6842\n",
       "11219    6410\n",
       "1649     6376\n",
       "44          5\n",
       "431         3\n",
       "432         1\n",
       "Name: dst_port, dtype: int64"
      ]
     },
     "execution_count": 33,
     "metadata": {},
     "output_type": "execute_result"
    }
   ],
   "source": [
    "df_vector4['dst_port'].value_counts()"
   ]
  },
  {
   "cell_type": "code",
   "execution_count": 34,
   "metadata": {},
   "outputs": [],
   "source": [
    "df_vector4 = df_remaining[(df_remaining['src_port']=='3702') & (df_remaining['dst_port'].isin(['6079', '11219','1649']))]"
   ]
  },
  {
   "cell_type": "code",
   "execution_count": 35,
   "metadata": {},
   "outputs": [
    {
     "data": {
      "text/html": [
       "<div>\n",
       "<style scoped>\n",
       "    .dataframe tbody tr th:only-of-type {\n",
       "        vertical-align: middle;\n",
       "    }\n",
       "\n",
       "    .dataframe tbody tr th {\n",
       "        vertical-align: top;\n",
       "    }\n",
       "\n",
       "    .dataframe thead th {\n",
       "        text-align: right;\n",
       "    }\n",
       "</style>\n",
       "<table border=\"1\" class=\"dataframe\">\n",
       "  <thead>\n",
       "    <tr style=\"text-align: right;\">\n",
       "      <th></th>\n",
       "      <th>packets</th>\n",
       "      <th>bytes</th>\n",
       "    </tr>\n",
       "    <tr>\n",
       "      <th>src_ip</th>\n",
       "      <th></th>\n",
       "      <th></th>\n",
       "    </tr>\n",
       "  </thead>\n",
       "  <tbody>\n",
       "    <tr>\n",
       "      <th>128.223.240.136</th>\n",
       "      <td>205000</td>\n",
       "      <td>322437120.0</td>\n",
       "    </tr>\n",
       "    <tr>\n",
       "      <th>14.160.220.177</th>\n",
       "      <td>205000</td>\n",
       "      <td>320759398.4</td>\n",
       "    </tr>\n",
       "    <tr>\n",
       "      <th>128.223.240.122</th>\n",
       "      <td>200000</td>\n",
       "      <td>314572800.0</td>\n",
       "    </tr>\n",
       "    <tr>\n",
       "      <th>38.104.44.46</th>\n",
       "      <td>198000</td>\n",
       "      <td>311427072.0</td>\n",
       "    </tr>\n",
       "    <tr>\n",
       "      <th>200.105.137.124</th>\n",
       "      <td>196000</td>\n",
       "      <td>308281344.0</td>\n",
       "    </tr>\n",
       "    <tr>\n",
       "      <th>...</th>\n",
       "      <td>...</td>\n",
       "      <td>...</td>\n",
       "    </tr>\n",
       "    <tr>\n",
       "      <th>200.124.121.126</th>\n",
       "      <td>1000</td>\n",
       "      <td>788000.0</td>\n",
       "    </tr>\n",
       "    <tr>\n",
       "      <th>200.46.250.244</th>\n",
       "      <td>1000</td>\n",
       "      <td>788000.0</td>\n",
       "    </tr>\n",
       "    <tr>\n",
       "      <th>217.92.60.220</th>\n",
       "      <td>1000</td>\n",
       "      <td>756000.0</td>\n",
       "    </tr>\n",
       "    <tr>\n",
       "      <th>82.161.142.172</th>\n",
       "      <td>1000</td>\n",
       "      <td>756000.0</td>\n",
       "    </tr>\n",
       "    <tr>\n",
       "      <th>94.254.66.79</th>\n",
       "      <td>9000</td>\n",
       "      <td>468000.0</td>\n",
       "    </tr>\n",
       "  </tbody>\n",
       "</table>\n",
       "<p>2508 rows × 2 columns</p>\n",
       "</div>"
      ],
      "text/plain": [
       "                 packets        bytes\n",
       "src_ip                               \n",
       "128.223.240.136   205000  322437120.0\n",
       "14.160.220.177    205000  320759398.4\n",
       "128.223.240.122   200000  314572800.0\n",
       "38.104.44.46      198000  311427072.0\n",
       "200.105.137.124   196000  308281344.0\n",
       "...                  ...          ...\n",
       "200.124.121.126     1000     788000.0\n",
       "200.46.250.244      1000     788000.0\n",
       "217.92.60.220       1000     756000.0\n",
       "82.161.142.172      1000     756000.0\n",
       "94.254.66.79        9000     468000.0\n",
       "\n",
       "[2508 rows x 2 columns]"
      ]
     },
     "execution_count": 35,
     "metadata": {},
     "output_type": "execute_result"
    }
   ],
   "source": [
    "df_vector4.groupby(['src_ip']).agg({'packets':'sum', 'bytes':'sum'}).sort_values(by='bytes', ascending = False)"
   ]
  },
  {
   "cell_type": "code",
   "execution_count": 36,
   "metadata": {},
   "outputs": [
    {
     "name": "stdout",
     "output_type": "stream",
     "text": [
      "unique ips in vector 1 (src_port 0 to dst_port 0): 72984\n",
      "unique ips in vector 2 (src_port 53 to dst_port 80): 54215\n",
      "unique ips in vector 3 (src_port 3283 to dst_port ANY): 7631\n",
      "unique ips in vector 4 (src_port 3702 AND dst_ports [6079, 11219, 1649]): 2508\n",
      "\n",
      "unique ips in the intersection of IPs in vector 1 and vector2 44607\n",
      "unique ips in the intersection of IPs in vector 1 and vector3 1\n",
      "unique ips in the intersection of IPs in vector 2 and vector3 3\n",
      "unique ips in the intersection of IPs in vector 1 and vector4 797\n",
      "unique ips in the intersection of IPs in vector 2 and vector4 0\n",
      "unique ips in the intersection of IPs in vector 3 and vector4 0\n"
     ]
    }
   ],
   "source": [
    "# ips_vector1 = df_vector1['src_ip'].unique()\n",
    "# ips_vector2 = df_vector2['src_ip'].unique()\n",
    "# ips_vector3 = df_vector3['src_ip'].unique()\n",
    "ips_vector4 = df_vector4['src_ip'].unique()\n",
    "print('unique ips in vector 1 (src_port 0 to dst_port 0):',len(ips_vector1))\n",
    "print('unique ips in vector 2 (src_port 53 to dst_port 80):',len(ips_vector2))\n",
    "print('unique ips in vector 3 (src_port 3283 to dst_port ANY):',len(ips_vector3))\n",
    "print('unique ips in vector 4 (src_port 3702 AND dst_ports [6079, 11219, 1649]):',len(ips_vector4))\n",
    "print()\n",
    "print('unique ips in the intersection of IPs in vector 1 and vector2',len(list(set(ips_vector1) & set(ips_vector2))))\n",
    "print('unique ips in the intersection of IPs in vector 1 and vector3',len(list(set(ips_vector1) & set(ips_vector3))))\n",
    "print('unique ips in the intersection of IPs in vector 2 and vector3',len(list(set(ips_vector2) & set(ips_vector3))))\n",
    "\n",
    "print('unique ips in the intersection of IPs in vector 1 and vector4',len(list(set(ips_vector1) & set(ips_vector4))))\n",
    "print('unique ips in the intersection of IPs in vector 2 and vector4',len(list(set(ips_vector2) & set(ips_vector4))))\n",
    "print('unique ips in the intersection of IPs in vector 3 and vector4',len(list(set(ips_vector3) & set(ips_vector4))))"
   ]
  },
  {
   "cell_type": "markdown",
   "metadata": {},
   "source": [
    "# ===========================\n",
    "# REMAINING\n",
    "Now we must remove the previous attack vector found and keep analysing the data to find other attack vectors!"
   ]
  },
  {
   "cell_type": "code",
   "execution_count": 37,
   "metadata": {},
   "outputs": [
    {
     "name": "stdout",
     "output_type": "stream",
     "text": [
      "Source port frequency of flows:\n"
     ]
    },
    {
     "data": {
      "text/plain": [
       "123      6222\n",
       "40256      20\n",
       "11376      14\n",
       "50131      13\n",
       "1185        4\n",
       "443         2\n",
       "2249        1\n",
       "48760       1\n",
       "38664       1\n",
       "39032       1\n",
       "37172       1\n",
       "45100       1\n",
       "49984       1\n",
       "16705       1\n",
       "19291       1\n",
       "20276       1\n",
       "3329        1\n",
       "53226       1\n",
       "Name: src_port, dtype: int64"
      ]
     },
     "metadata": {},
     "output_type": "display_data"
    },
    {
     "name": "stdout",
     "output_type": "stream",
     "text": [
      "\n",
      "Destination port frequency of flows:\n"
     ]
    },
    {
     "data": {
      "text/plain": [
       "52914    2106\n",
       "12098    2059\n",
       "51396    2057\n",
       "46961      10\n",
       "2079        9\n",
       "27141       8\n",
       "40678       5\n",
       "17058       4\n",
       "46191       4\n",
       "443         4\n",
       "25          3\n",
       "19131       3\n",
       "7024        2\n",
       "63404       2\n",
       "31077       2\n",
       "430         2\n",
       "22475       2\n",
       "13309       1\n",
       "50368       1\n",
       "46062       1\n",
       "33150       1\n",
       "45959       1\n",
       "Name: dst_port, dtype: int64"
      ]
     },
     "metadata": {},
     "output_type": "display_data"
    }
   ],
   "source": [
    "df_remaining = df_remaining[(df_remaining['src_port']!='3702') & (~df_remaining['dst_port'].isin(['6079', '11219','1649']))]\n",
    "print(\"Source port frequency of flows:\")\n",
    "display (df_remaining['src_port'].value_counts())\n",
    "print()\n",
    "print(\"Destination port frequency of flows:\")\n",
    "display (df_remaining['dst_port'].value_counts())"
   ]
  },
  {
   "cell_type": "markdown",
   "metadata": {},
   "source": [
    "# ==========================="
   ]
  },
  {
   "cell_type": "markdown",
   "metadata": {},
   "source": [
    "# Vector 5: src_port 123 (and dst_ports [52914, 12098, 51396])"
   ]
  },
  {
   "cell_type": "code",
   "execution_count": 38,
   "metadata": {},
   "outputs": [],
   "source": [
    "df_vector5 = df_remaining[df_remaining['src_port']=='123']"
   ]
  },
  {
   "cell_type": "code",
   "execution_count": 39,
   "metadata": {},
   "outputs": [
    {
     "data": {
      "text/plain": [
       "52914    2106\n",
       "12098    2059\n",
       "51396    2057\n",
       "Name: dst_port, dtype: int64"
      ]
     },
     "execution_count": 39,
     "metadata": {},
     "output_type": "execute_result"
    }
   ],
   "source": [
    "df_vector5['dst_port'].value_counts()"
   ]
  },
  {
   "cell_type": "code",
   "execution_count": 40,
   "metadata": {},
   "outputs": [],
   "source": [
    "df_vector5 = df_remaining[(df_remaining['src_port']=='123') & (df_remaining['dst_port'].isin(['52914', '12098','51396']))]"
   ]
  },
  {
   "cell_type": "code",
   "execution_count": 41,
   "metadata": {},
   "outputs": [
    {
     "data": {
      "text/html": [
       "<div>\n",
       "<style scoped>\n",
       "    .dataframe tbody tr th:only-of-type {\n",
       "        vertical-align: middle;\n",
       "    }\n",
       "\n",
       "    .dataframe tbody tr th {\n",
       "        vertical-align: top;\n",
       "    }\n",
       "\n",
       "    .dataframe thead th {\n",
       "        text-align: right;\n",
       "    }\n",
       "</style>\n",
       "<table border=\"1\" class=\"dataframe\">\n",
       "  <thead>\n",
       "    <tr style=\"text-align: right;\">\n",
       "      <th></th>\n",
       "      <th>packets</th>\n",
       "      <th>bytes</th>\n",
       "    </tr>\n",
       "    <tr>\n",
       "      <th>src_ip</th>\n",
       "      <th></th>\n",
       "      <th></th>\n",
       "    </tr>\n",
       "  </thead>\n",
       "  <tbody>\n",
       "    <tr>\n",
       "      <th>150.136.41.25</th>\n",
       "      <td>2070000</td>\n",
       "      <td>1.015546e+09</td>\n",
       "    </tr>\n",
       "    <tr>\n",
       "      <th>79.172.239.41</th>\n",
       "      <td>2052000</td>\n",
       "      <td>1.006843e+09</td>\n",
       "    </tr>\n",
       "    <tr>\n",
       "      <th>150.136.33.4</th>\n",
       "      <td>1908000</td>\n",
       "      <td>9.365881e+08</td>\n",
       "    </tr>\n",
       "    <tr>\n",
       "      <th>158.101.119.64</th>\n",
       "      <td>1809000</td>\n",
       "      <td>8.877244e+08</td>\n",
       "    </tr>\n",
       "    <tr>\n",
       "      <th>150.136.188.38</th>\n",
       "      <td>1806000</td>\n",
       "      <td>8.863613e+08</td>\n",
       "    </tr>\n",
       "    <tr>\n",
       "      <th>...</th>\n",
       "      <td>...</td>\n",
       "      <td>...</td>\n",
       "    </tr>\n",
       "    <tr>\n",
       "      <th>60.175.3.22</th>\n",
       "      <td>1000</td>\n",
       "      <td>3.600000e+04</td>\n",
       "    </tr>\n",
       "    <tr>\n",
       "      <th>223.247.37.180</th>\n",
       "      <td>1000</td>\n",
       "      <td>3.600000e+04</td>\n",
       "    </tr>\n",
       "    <tr>\n",
       "      <th>36.92.190.29</th>\n",
       "      <td>1000</td>\n",
       "      <td>3.600000e+04</td>\n",
       "    </tr>\n",
       "    <tr>\n",
       "      <th>120.211.26.104</th>\n",
       "      <td>1000</td>\n",
       "      <td>3.600000e+04</td>\n",
       "    </tr>\n",
       "    <tr>\n",
       "      <th>114.104.189.219</th>\n",
       "      <td>1000</td>\n",
       "      <td>3.600000e+04</td>\n",
       "    </tr>\n",
       "  </tbody>\n",
       "</table>\n",
       "<p>1229 rows × 2 columns</p>\n",
       "</div>"
      ],
      "text/plain": [
       "                 packets         bytes\n",
       "src_ip                                \n",
       "150.136.41.25    2070000  1.015546e+09\n",
       "79.172.239.41    2052000  1.006843e+09\n",
       "150.136.33.4     1908000  9.365881e+08\n",
       "158.101.119.64   1809000  8.877244e+08\n",
       "150.136.188.38   1806000  8.863613e+08\n",
       "...                  ...           ...\n",
       "60.175.3.22         1000  3.600000e+04\n",
       "223.247.37.180      1000  3.600000e+04\n",
       "36.92.190.29        1000  3.600000e+04\n",
       "120.211.26.104      1000  3.600000e+04\n",
       "114.104.189.219     1000  3.600000e+04\n",
       "\n",
       "[1229 rows x 2 columns]"
      ]
     },
     "execution_count": 41,
     "metadata": {},
     "output_type": "execute_result"
    }
   ],
   "source": [
    "df_vector5.groupby(['src_ip']).agg({'packets':'sum', 'bytes':'sum'}).sort_values(by='bytes', ascending = False)"
   ]
  },
  {
   "cell_type": "code",
   "execution_count": 42,
   "metadata": {},
   "outputs": [
    {
     "name": "stdout",
     "output_type": "stream",
     "text": [
      "unique ips in vector 1 (src_port 0 to dst_port 0): 72984\n",
      "unique ips in vector 2 (src_port 53 to dst_port 80): 54215\n",
      "unique ips in vector 3 (src_port 3283 to dst_port ANY): 7631\n",
      "unique ips in vector 4 (src_port 3702 AND dst_ports [6079, 11219, 1649]): 2508\n",
      "unique ips in vector 5 (src_port 123 AND dst_ports [52914, 12098, 51396]): 1229\n",
      "\n",
      "unique ips in the intersection of IPs in vector 1 and vector2 44607\n",
      "unique ips in the intersection of IPs in vector 1 and vector3 1\n",
      "unique ips in the intersection of IPs in vector 2 and vector3 3\n",
      "\n",
      "unique ips in the intersection of IPs in vector 1 and vector4 797\n",
      "unique ips in the intersection of IPs in vector 2 and vector4 0\n",
      "unique ips in the intersection of IPs in vector 3 and vector4 0\n",
      "\n",
      "unique ips in the intersection of IPs in vector 1 and vector5 0\n",
      "unique ips in the intersection of IPs in vector 2 and vector5 0\n",
      "unique ips in the intersection of IPs in vector 3 and vector5 0\n",
      "unique ips in the intersection of IPs in vector 4 and vector5 0\n"
     ]
    },
    {
     "data": {
      "text/plain": [
       "93960"
      ]
     },
     "execution_count": 42,
     "metadata": {},
     "output_type": "execute_result"
    }
   ],
   "source": [
    "# ips_vector1 = df_vector1['src_ip'].unique()\n",
    "# ips_vector2 = df_vector2['src_ip'].unique()\n",
    "# ips_vector3 = df_vector3['src_ip'].unique()\n",
    "# ips_vector4 = df_vector4['src_ip'].unique()\n",
    "ips_vector5 = df_vector5['src_ip'].unique()\n",
    "print('unique ips in vector 1 (src_port 0 to dst_port 0):',len(ips_vector1))\n",
    "print('unique ips in vector 2 (src_port 53 to dst_port 80):',len(ips_vector2))\n",
    "print('unique ips in vector 3 (src_port 3283 to dst_port ANY):',len(ips_vector3))\n",
    "print('unique ips in vector 4 (src_port 3702 AND dst_ports [6079, 11219, 1649]):',len(ips_vector4))\n",
    "print('unique ips in vector 5 (src_port 123 AND dst_ports [52914, 12098, 51396]):',len(ips_vector5))\n",
    "print()\n",
    "\n",
    "print('unique ips in the intersection of IPs in vector 1 and vector2',len(list(set(ips_vector1) & set(ips_vector2))))\n",
    "print('unique ips in the intersection of IPs in vector 1 and vector3',len(list(set(ips_vector1) & set(ips_vector3))))\n",
    "print('unique ips in the intersection of IPs in vector 2 and vector3',len(list(set(ips_vector2) & set(ips_vector3))))\n",
    "print()\n",
    "\n",
    "print('unique ips in the intersection of IPs in vector 1 and vector4',len(list(set(ips_vector1) & set(ips_vector4))))\n",
    "print('unique ips in the intersection of IPs in vector 2 and vector4',len(list(set(ips_vector2) & set(ips_vector4))))\n",
    "print('unique ips in the intersection of IPs in vector 3 and vector4',len(list(set(ips_vector3) & set(ips_vector4))))\n",
    "print()\n",
    "\n",
    "print('unique ips in the intersection of IPs in vector 1 and vector5',len(list(set(ips_vector1) & set(ips_vector5))))\n",
    "print('unique ips in the intersection of IPs in vector 2 and vector5',len(list(set(ips_vector2) & set(ips_vector5))))\n",
    "print('unique ips in the intersection of IPs in vector 3 and vector5',len(list(set(ips_vector3) & set(ips_vector5))))\n",
    "print('unique ips in the intersection of IPs in vector 4 and vector5',len(list(set(ips_vector4) & set(ips_vector5))))\n",
    "\n",
    "len(ips_vector1) +  len(ips_vector2) + len(ips_vector3) + len(ips_vector4) + len(ips_vector5) - 44607"
   ]
  },
  {
   "cell_type": "markdown",
   "metadata": {},
   "source": [
    "# ===========================\n",
    "# REMAINING\n",
    "Now we must remove the previous attack vector found and keep analysing the data to find other attack vectors!"
   ]
  },
  {
   "cell_type": "code",
   "execution_count": 43,
   "metadata": {},
   "outputs": [
    {
     "name": "stdout",
     "output_type": "stream",
     "text": [
      "Source port frequency of flows:\n"
     ]
    },
    {
     "data": {
      "text/plain": [
       "40256    20\n",
       "11376    14\n",
       "50131    13\n",
       "1185      4\n",
       "443       2\n",
       "48760     1\n",
       "16705     1\n",
       "20276     1\n",
       "39032     1\n",
       "3329      1\n",
       "37172     1\n",
       "38664     1\n",
       "53226     1\n",
       "2249      1\n",
       "49984     1\n",
       "45100     1\n",
       "19291     1\n",
       "Name: src_port, dtype: int64"
      ]
     },
     "metadata": {},
     "output_type": "display_data"
    },
    {
     "name": "stdout",
     "output_type": "stream",
     "text": [
      "\n",
      "Destination port frequency of flows:\n"
     ]
    },
    {
     "data": {
      "text/plain": [
       "46961    10\n",
       "2079      9\n",
       "27141     8\n",
       "40678     5\n",
       "443       4\n",
       "46191     4\n",
       "17058     4\n",
       "25        3\n",
       "19131     3\n",
       "63404     2\n",
       "430       2\n",
       "22475     2\n",
       "31077     2\n",
       "7024      2\n",
       "50368     1\n",
       "45959     1\n",
       "46062     1\n",
       "33150     1\n",
       "13309     1\n",
       "Name: dst_port, dtype: int64"
      ]
     },
     "metadata": {},
     "output_type": "display_data"
    }
   ],
   "source": [
    "df_remaining = df_remaining[(df_remaining['src_port']!='123') & (~df_remaining['dst_port'].isin(['52914', '12098','51396']))]\n",
    "print(\"Source port frequency of flows:\")\n",
    "display (df_remaining['src_port'].value_counts())\n",
    "print()\n",
    "print(\"Destination port frequency of flows:\")\n",
    "display (df_remaining['dst_port'].value_counts())"
   ]
  },
  {
   "cell_type": "markdown",
   "metadata": {},
   "source": [
    "# STOP!!!!\n",
    "The remaining are too less flows!"
   ]
  },
  {
   "cell_type": "markdown",
   "metadata": {},
   "source": [
    "# Is there any intersection between the IP in the previous attack vectors and the non-UDP traffic?"
   ]
  },
  {
   "cell_type": "code",
   "execution_count": 44,
   "metadata": {},
   "outputs": [],
   "source": [
    "other_ips = df_victim[df_victim['protocol'] != 'UDP']['src_ip'].unique()"
   ]
  },
  {
   "cell_type": "code",
   "execution_count": 45,
   "metadata": {},
   "outputs": [
    {
     "name": "stdout",
     "output_type": "stream",
     "text": [
      "22033\n",
      "15\n",
      "32\n",
      "12\n",
      "0\n"
     ]
    }
   ],
   "source": [
    "print(len(list(set(other_ips) & set(ips_vector1))))\n",
    "print(len(list(set(other_ips) & set(ips_vector2))))\n",
    "print(len(list(set(other_ips) & set(ips_vector3))))\n",
    "print(len(list(set(other_ips) & set(ips_vector4))))\n",
    "print(len(list(set(other_ips) & set(ips_vector5))))"
   ]
  },
  {
   "cell_type": "markdown",
   "metadata": {},
   "source": [
    "YES, highly related to IP address that sent fragmented packets (as a consequence of miss-behavior)"
   ]
  },
  {
   "cell_type": "code",
   "execution_count": 46,
   "metadata": {},
   "outputs": [
    {
     "data": {
      "text/plain": [
       "GRE     5733\n",
       "EGP     5503\n",
       "AH      5499\n",
       "PIM     5259\n",
       "ICMP      99\n",
       "TCP        2\n",
       "Name: protocol, dtype: int64"
      ]
     },
     "execution_count": 46,
     "metadata": {},
     "output_type": "execute_result"
    }
   ],
   "source": [
    "df_victim[(df_victim['protocol'] != 'UDP') & (df['src_ip'].isin(ips_vector1))]['protocol'].value_counts()"
   ]
  },
  {
   "cell_type": "markdown",
   "metadata": {},
   "source": [
    "# ===============================\n",
    "# Exporting the list of IP addresses in each attack vector"
   ]
  },
  {
   "cell_type": "markdown",
   "metadata": {},
   "source": [
    "Vector 1 (fragmentation) will not be exported because it is a consequence of the other vectors."
   ]
  },
  {
   "cell_type": "code",
   "execution_count": 47,
   "metadata": {},
   "outputs": [],
   "source": [
    "pd.DataFrame(ips_vector2).to_csv('attack_vectors/vector1_src53_dst80.csv')"
   ]
  },
  {
   "cell_type": "code",
   "execution_count": 48,
   "metadata": {},
   "outputs": [],
   "source": [
    "pd.DataFrame(ips_vector3).to_csv('attack_vectors/vector2_src3283_dstANY.csv')"
   ]
  },
  {
   "cell_type": "code",
   "execution_count": 49,
   "metadata": {},
   "outputs": [],
   "source": [
    "pd.DataFrame(ips_vector4).to_csv('attack_vectors/vector3_src3702_dst6079-11219-1649.csv')"
   ]
  },
  {
   "cell_type": "code",
   "execution_count": 50,
   "metadata": {},
   "outputs": [],
   "source": [
    "pd.DataFrame(ips_vector5).to_csv('attack_vectors/vector4_src123_dst52914-12098-51396.csv')"
   ]
  }
 ],
 "metadata": {
  "kernelspec": {
   "display_name": "Python 3",
   "language": "python",
   "name": "python3"
  },
  "language_info": {
   "codemirror_mode": {
    "name": "ipython",
    "version": 3
   },
   "file_extension": ".py",
   "mimetype": "text/x-python",
   "name": "python",
   "nbconvert_exporter": "python",
   "pygments_lexer": "ipython3",
   "version": "3.8.5"
  }
 },
 "nbformat": 4,
 "nbformat_minor": 4
}
